{
  "nbformat": 4,
  "nbformat_minor": 0,
  "metadata": {
    "colab": {
      "provenance": []
    },
    "kernelspec": {
      "name": "python3",
      "display_name": "Python 3"
    },
    "language_info": {
      "name": "python"
    }
  },
  "cells": [
    {
      "cell_type": "code",
      "execution_count": null,
      "metadata": {
        "colab": {
          "base_uri": "https://localhost:8080/"
        },
        "id": "_iBRP4A7wtER",
        "outputId": "54fe7886-6175-4969-ff70-c27985829305"
      },
      "outputs": [
        {
          "output_type": "stream",
          "name": "stdout",
          "text": [
            "Promedios y estados finales del grupo 'Grupo A':\n",
            "Nombre: Juan Perez, Promedio: 84.33, Estado: Aprobado\n",
            "Nombre: Maria Lopez, Promedio: 85.00, Estado: Aprobado\n",
            "Nombre: Carlos Garcia, Promedio: 65.00, Estado: Reprobado\n",
            "Mejor Alumno: Maria Lopez, Promedio: 85.00\n"
          ]
        }
      ],
      "source": [
        "\n",
        "class Alumno:\n",
        "    def __init__(self, nombre, matricula):\n",
        "        \"\"\"Inicializa un nuevo alumno con nombre, matrícula y una lista vacía de calificaciones.\"\"\"\n",
        "        self.nombre = nombre\n",
        "        self.matricula = matricula\n",
        "        self.calificaciones = []\n",
        "\n",
        "    def agregar_calificacion(self, calificacion):\n",
        "        \"\"\"Agrega una calificación a la lista de calificaciones del estudiante.\"\"\"\n",
        "        self.calificaciones.append(calificacion)\n",
        "\n",
        "    def calcular_promedio(self):\n",
        "        \"\"\"Calcula el promedio de las calificaciones del estudiante.\"\"\"\n",
        "        if len(self.calificaciones) == 0:\n",
        "            return 0  # Evitar división por cero\n",
        "        return sum(self.calificaciones) / len(self.calificaciones)\n",
        "\n",
        "    def estado_final(self):\n",
        "        \"\"\"Determina si el estudiante aprobó o reprobó.\"\"\"\n",
        "        promedio = self.calcular_promedio()\n",
        "        return \"Aprobado\" if promedio >= 70 else \"Reprobado\"\n",
        "\n",
        "\n",
        "class Grupo:\n",
        "    def __init__(self, nombre_grupo):\n",
        "        \"\"\"Inicializa un nuevo grupo con un nombre y una lista vacía de alumnos.\"\"\"\n",
        "        self.nombre_grupo = nombre_grupo\n",
        "        self.alumnos = []\n",
        "\n",
        "    def agregar_alumno(self, alumno):\n",
        "        \"\"\"Agrega un nuevo objeto Alumno al grupo.\"\"\"\n",
        "        self.alumnos.append(alumno)\n",
        "\n",
        "    def mostrar_promedios(self):\n",
        "        \"\"\"Muestra el promedio de cada estudiante y su estado final.\"\"\"\n",
        "        print(f\"Promedios y estados finales del grupo '{self.nombre_grupo}':\")\n",
        "        for alumno in self.alumnos:\n",
        "            print(f\"Nombre: {alumno.nombre}, Promedio: {alumno.calcular_promedio():.2f}, Estado: {alumno.estado_final()}\")\n",
        "\n",
        "    def mejor_alumno(self):\n",
        "        \"\"\"Muestra el estudiante con el promedio más alto.\"\"\"\n",
        "        if not self.alumnos:\n",
        "            print(\"No hay alumnos en el grupo.\")\n",
        "            return\n",
        "\n",
        "        mejor = max(self.alumnos, key=lambda alumno: alumno.calcular_promedio())\n",
        "        print(f\"Mejor Alumno: {mejor.nombre}, Promedio: {mejor.calcular_promedio():.2f}\")\n",
        "\n",
        "\n",
        "# Ejemplo de uso\n",
        "grupo1 = Grupo(\"Grupo A\")\n",
        "\n",
        "# Agregar estudiantes\n",
        "alumno1 = Alumno(\"Juan Perez\", \"2023001\")\n",
        "alumno1.agregar_calificacion(85)\n",
        "alumno1.agregar_calificacion(90)\n",
        "alumno1.agregar_calificacion(78)\n",
        "\n",
        "alumno2 = Alumno(\"Maria Lopez\", \"2023002\")\n",
        "alumno2.agregar_calificacion(92)\n",
        "alumno2.agregar_calificacion(88)\n",
        "alumno2.agregar_calificacion(75)\n",
        "\n",
        "alumno3 = Alumno(\"Carlos Garcia\", \"2023003\")\n",
        "alumno3.agregar_calificacion(60)\n",
        "alumno3.agregar_calificacion(70)\n",
        "alumno3.agregar_calificacion(65)\n",
        "\n",
        "# Agregar alumnos al grupo\n",
        "grupo1.agregar_alumno(alumno1)\n",
        "grupo1.agregar_alumno(alumno2)\n",
        "grupo1.agregar_alumno(alumno3)\n",
        "\n",
        "# Mostrar promedios y estados finales\n",
        "grupo1.mostrar_promedios()\n",
        "\n",
        "# Mostrar el mejor alumno\n",
        "grupo1.mejor_alumno()"
      ]
    }
  ]
}